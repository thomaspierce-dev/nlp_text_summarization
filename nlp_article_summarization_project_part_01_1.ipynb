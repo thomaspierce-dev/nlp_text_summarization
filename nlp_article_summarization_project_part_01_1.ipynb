{
 "cells": [
  {
   "cell_type": "code",
   "execution_count": 2,
   "metadata": {
    "colab": {},
    "colab_type": "code",
    "id": "xHhAm1sXxAe8"
   },
   "outputs": [
    {
     "name": "stdout",
     "output_type": "stream",
     "text": [
      "zsh:1: command not found: wget\n",
      "tar: Error opening archive: Failed to open 'cnn_stories.tgz'\n"
     ]
    }
   ],
   "source": [
    "# # get the CNN stories dataset\n",
    "# !wget https://github.com/Manning-LP-What-s-The-News/Starter-Repository/releases/download/v0.1.0/cnn_stories.tgz\n",
    "\n",
    "# # untar the dataset\n",
    "# !tar -xvf cnn_stories.tgz"
   ]
  },
  {
   "cell_type": "code",
   "execution_count": 6,
   "metadata": {
    "collapsed": true
   },
   "outputs": [
    {
     "name": "stdout",
     "output_type": "stream",
     "text": [
      "Collecting rouge\n",
      "  Downloading rouge-1.0.1-py3-none-any.whl (13 kB)\n",
      "Requirement already satisfied: six in /Users/tpierce/anaconda3/lib/python3.8/site-packages (from rouge) (1.16.0)\n",
      "Installing collected packages: rouge\n",
      "Successfully installed rouge-1.0.1\n",
      "Collecting wandb\n",
      "  Downloading wandb-0.11.2-py2.py3-none-any.whl (1.8 MB)\n",
      "\u001b[K     |████████████████████████████████| 1.8 MB 1.8 MB/s eta 0:00:01\n",
      "\u001b[?25hRequirement already satisfied: protobuf>=3.12.0 in /Users/tpierce/anaconda3/lib/python3.8/site-packages (from wandb) (3.17.1)\n",
      "Collecting docker-pycreds>=0.4.0\n",
      "  Downloading docker_pycreds-0.4.0-py2.py3-none-any.whl (9.0 kB)\n",
      "Requirement already satisfied: Click!=8.0.0,>=7.0 in /Users/tpierce/anaconda3/lib/python3.8/site-packages (from wandb) (8.0.1)\n",
      "Requirement already satisfied: PyYAML in /Users/tpierce/anaconda3/lib/python3.8/site-packages (from wandb) (5.4.1)\n",
      "Requirement already satisfied: pathtools in /Users/tpierce/anaconda3/lib/python3.8/site-packages (from wandb) (0.1.2)\n",
      "Requirement already satisfied: requests<3,>=2.0.0 in /Users/tpierce/anaconda3/lib/python3.8/site-packages (from wandb) (2.25.1)\n",
      "Requirement already satisfied: python-dateutil>=2.6.1 in /Users/tpierce/anaconda3/lib/python3.8/site-packages (from wandb) (2.8.2)\n",
      "Collecting GitPython>=1.0.0\n",
      "  Using cached GitPython-3.1.18-py3-none-any.whl (170 kB)\n",
      "Collecting promise<3,>=2.0\n",
      "  Downloading promise-2.3.tar.gz (19 kB)\n",
      "Requirement already satisfied: six>=1.13.0 in /Users/tpierce/anaconda3/lib/python3.8/site-packages (from wandb) (1.16.0)\n",
      "Collecting sentry-sdk>=1.0.0\n",
      "  Downloading sentry_sdk-1.3.1-py2.py3-none-any.whl (133 kB)\n",
      "\u001b[K     |████████████████████████████████| 133 kB 36.5 MB/s eta 0:00:01\n",
      "\u001b[?25hCollecting subprocess32>=3.5.3\n",
      "  Downloading subprocess32-3.5.4.tar.gz (97 kB)\n",
      "\u001b[K     |████████████████████████████████| 97 kB 17.8 MB/s eta 0:00:01\n",
      "\u001b[?25hRequirement already satisfied: psutil>=5.0.0 in /Users/tpierce/anaconda3/lib/python3.8/site-packages (from wandb) (5.8.0)\n",
      "Requirement already satisfied: configparser>=3.8.1 in /Users/tpierce/anaconda3/lib/python3.8/site-packages (from wandb) (5.0.2)\n",
      "Collecting shortuuid>=0.5.0\n",
      "  Downloading shortuuid-1.0.1-py3-none-any.whl (7.5 kB)\n",
      "Requirement already satisfied: urllib3>=1.26.5 in /Users/tpierce/anaconda3/lib/python3.8/site-packages (from wandb) (1.26.6)\n",
      "Collecting gitdb<5,>=4.0.1\n",
      "  Using cached gitdb-4.0.7-py3-none-any.whl (63 kB)\n",
      "Collecting smmap<5,>=3.0.1\n",
      "  Using cached smmap-4.0.0-py2.py3-none-any.whl (24 kB)\n",
      "Requirement already satisfied: chardet<5,>=3.0.2 in /Users/tpierce/anaconda3/lib/python3.8/site-packages (from requests<3,>=2.0.0->wandb) (4.0.0)\n",
      "Requirement already satisfied: certifi>=2017.4.17 in /Users/tpierce/anaconda3/lib/python3.8/site-packages (from requests<3,>=2.0.0->wandb) (2021.5.30)\n",
      "Requirement already satisfied: idna<3,>=2.5 in /Users/tpierce/anaconda3/lib/python3.8/site-packages (from requests<3,>=2.0.0->wandb) (2.10)\n",
      "Building wheels for collected packages: promise, subprocess32\n",
      "  Building wheel for promise (setup.py) ... \u001b[?25ldone\n",
      "\u001b[?25h  Created wheel for promise: filename=promise-2.3-py3-none-any.whl size=21494 sha256=98738223ce8e3456d9e1f479e792a24c466e251abfb7c71a68f6260656716f49\n",
      "  Stored in directory: /Users/tpierce/Library/Caches/pip/wheels/54/aa/01/724885182f93150035a2a91bce34a12877e8067a97baaf5dc8\n",
      "  Building wheel for subprocess32 (setup.py) ... \u001b[?25ldone\n",
      "\u001b[?25h  Created wheel for subprocess32: filename=subprocess32-3.5.4-py3-none-any.whl size=6488 sha256=4621d81b15fda3b7fa23331a25abf0baf420370d4496a3b8b65076928701bf4b\n",
      "  Stored in directory: /Users/tpierce/Library/Caches/pip/wheels/9f/69/d1/50b39b308a87998eaf5c1d9095e5a5bd2ad98501e2b7936d36\n",
      "Successfully built promise subprocess32\n",
      "Installing collected packages: smmap, gitdb, subprocess32, shortuuid, sentry-sdk, promise, GitPython, docker-pycreds, wandb\n",
      "Successfully installed GitPython-3.1.18 docker-pycreds-0.4.0 gitdb-4.0.7 promise-2.3 sentry-sdk-1.3.1 shortuuid-1.0.1 smmap-4.0.0 subprocess32-3.5.4 wandb-0.11.2\n"
     ]
    }
   ],
   "source": [
    "# master list should have a length of 92579.\n",
    "# https://pypi.org/project/rouge/\n",
    "# https://wandb.ai/site\n",
    "# https://pypi.org/project/tqdm/\n",
    "# https://docs.python.org/3/library/pickle.html\n",
    "\n",
    "!pip install rouge\n",
    "!pip install wandb"
   ]
  },
  {
   "cell_type": "code",
   "execution_count": 17,
   "metadata": {},
   "outputs": [],
   "source": [
    "import tensorflow as tf\n",
    "import sklearn\n",
    "import numpy as np\n",
    "import pandas as pd\n",
    "import matplotlib.pyplot as plt\n",
    "import seaborn as sns\n",
    "from rouge import Rouge \n",
    "import wandb\n",
    "import tqdm\n",
    "import pickle"
   ]
  },
  {
   "cell_type": "code",
   "execution_count": 9,
   "metadata": {
    "colab": {},
    "colab_type": "code",
    "id": "S1bRwIE5xIsw"
   },
   "outputs": [],
   "source": [
    "# dependencies\n",
    "from tqdm.notebook import tqdm\n",
    "from os import listdir\n",
    "import string"
   ]
  },
  {
   "cell_type": "code",
   "execution_count": 11,
   "metadata": {
    "colab": {},
    "colab_type": "code",
    "id": "SuNdJASuxSjV"
   },
   "outputs": [],
   "source": [
    "# load doc into memory\n",
    "def load_doc(filename):\n",
    "    # open the file as read only\n",
    "    file = open(filename, encoding='utf-8')\n",
    "    # read all text\n",
    "    text = file.read()\n",
    "    # close the file\n",
    "    file.close()\n",
    "    \n",
    "    return text\n",
    "\n",
    "# split a document into news story and highlights\n",
    "def split_story(doc):\n",
    "    \n",
    "    #find first highlight\n",
    "    index = doc.find('@hightlight')\n",
    "    \n",
    "    # split into story and highlights\n",
    "    # assign all story content up to but not including the index (which is @highlight) to the story variable\n",
    "    # assign all content being at the index ('@highlight') and split on the string '@hightlight'\n",
    "    story, highlights = doc[:index], doc[index:].split('@hightlight')\n",
    "    \n",
    "    # strip extra white space around each highlight\n",
    "    highlights = [h.strip() for h in highlights if len(h) > 0]\n",
    "    \n",
    "    return story, hightlights\n",
    "\n",
    "# load all stories from the cnn/stories directory\n",
    "def load_stories(directory):\n",
    "    # set stories var as a empty list\n",
    "    stories = list()\n",
    "    # loop through the directory for each document\n",
    "    for name in tqdm(listdir(directory)):\n",
    "        filename = directory + '/' + name\n",
    "        \n",
    "        # load each document by call to the load_doc() function\n",
    "        # return the text of each document to the doc variable\n",
    "        doc = load_doc(filename)\n",
    "        \n",
    "        # split into story and highlights by calling split_story() function on doc\n",
    "        # assign story and highlights to the variables, respectively\n",
    "        story, highlights = split_story(doc)\n",
    "        \n",
    "        # store\n",
    "        stories.append({'story':story, 'highlights':highlights})\n",
    "    \n",
    "    return stories"
   ]
  },
  {
   "cell_type": "code",
   "execution_count": 12,
   "metadata": {
    "colab": {
     "base_uri": "https://localhost:8080/",
     "height": 83,
     "referenced_widgets": [
      "135846b6eabe42c39fcd2414c33458ef",
      "695b9b102754467f868638161190d0fa",
      "1e17fa61ea954c96b70e06d6afa85b93",
      "1c94822dc2b84ad5bf5ba15a6f248bd4",
      "83d314937b934094865a0c4e65fe3fca",
      "3bc31f5ec184493ca23459083a1b3701",
      "b1409956952640b5ad92fc319a17b929",
      "af0820107178405697f25d9ff647f18f"
     ]
    },
    "colab_type": "code",
    "id": "RMxm-bc5xk-O",
    "outputId": "94264801-d9ce-4464-a63c-b99daee0e553"
   },
   "outputs": [
    {
     "data": {
      "application/vnd.jupyter.widget-view+json": {
       "model_id": "fdedf5100d4349b786a72af51e90b1c1",
       "version_major": 2,
       "version_minor": 0
      },
      "text/plain": [
       "  0%|          | 0/92579 [00:00<?, ?it/s]"
      ]
     },
     "metadata": {},
     "output_type": "display_data"
    },
    {
     "name": "stdout",
     "output_type": "stream",
     "text": [
      "Loaded Stories 92579\n"
     ]
    }
   ],
   "source": [
    "# segregate into news and summaries\n",
    "directory = 'cnn/stories/'\n",
    "stories = load_stories(directory)\n",
    "print('Loaded Stories %d' % len(stories))"
   ]
  },
  {
   "cell_type": "code",
   "execution_count": 13,
   "metadata": {
    "colab": {},
    "colab_type": "code",
    "id": "39cVj4Y-xW45"
   },
   "outputs": [],
   "source": [
    "# serialize the master list\n",
    "from pickle import dump\n",
    "dump(stories, open('stories.pkl', 'wb'))"
   ]
  },
  {
   "cell_type": "code",
   "execution_count": 14,
   "metadata": {},
   "outputs": [
    {
     "name": "stdout",
     "output_type": "stream",
     "text": [
      "total 1091640\r\n",
      "-rw-r--r--@ 1 tpierce  staff      12288 Aug  7 22:30 Milestone_1_Solution.ipynb\r\n",
      "drwxr-xr-x  3 tpierce  staff         96 Aug  7 22:31 \u001b[1m\u001b[36mcnn\u001b[m\u001b[m\r\n",
      "-rw-r--r--  1 tpierce  staff  158577824 Jun 11  2020 cnn_stories.tgz\r\n",
      "-rw-r--r--  1 tpierce  staff  390646781 Aug  7 22:39 stories.pkl\r\n"
     ]
    }
   ],
   "source": [
    "!ls -l"
   ]
  },
  {
   "cell_type": "code",
   "execution_count": null,
   "metadata": {},
   "outputs": [],
   "source": []
  }
 ],
 "metadata": {
  "accelerator": "GPU",
  "colab": {
   "collapsed_sections": [],
   "name": "Milestone_1_Solution.ipynb",
   "provenance": []
  },
  "kernelspec": {
   "display_name": "Python 3",
   "language": "python",
   "name": "python3"
  },
  "language_info": {
   "codemirror_mode": {
    "name": "ipython",
    "version": 3
   },
   "file_extension": ".py",
   "mimetype": "text/x-python",
   "name": "python",
   "nbconvert_exporter": "python",
   "pygments_lexer": "ipython3",
   "version": "3.8.8"
  },
  "widgets": {
   "application/vnd.jupyter.widget-state+json": {
    "135846b6eabe42c39fcd2414c33458ef": {
     "model_module": "@jupyter-widgets/controls",
     "model_name": "HBoxModel",
     "state": {
      "_dom_classes": [],
      "_model_module": "@jupyter-widgets/controls",
      "_model_module_version": "1.5.0",
      "_model_name": "HBoxModel",
      "_view_count": null,
      "_view_module": "@jupyter-widgets/controls",
      "_view_module_version": "1.5.0",
      "_view_name": "HBoxView",
      "box_style": "",
      "children": [
       "IPY_MODEL_1e17fa61ea954c96b70e06d6afa85b93",
       "IPY_MODEL_1c94822dc2b84ad5bf5ba15a6f248bd4"
      ],
      "layout": "IPY_MODEL_695b9b102754467f868638161190d0fa"
     }
    },
    "1c94822dc2b84ad5bf5ba15a6f248bd4": {
     "model_module": "@jupyter-widgets/controls",
     "model_name": "HTMLModel",
     "state": {
      "_dom_classes": [],
      "_model_module": "@jupyter-widgets/controls",
      "_model_module_version": "1.5.0",
      "_model_name": "HTMLModel",
      "_view_count": null,
      "_view_module": "@jupyter-widgets/controls",
      "_view_module_version": "1.5.0",
      "_view_name": "HTMLView",
      "description": "",
      "description_tooltip": null,
      "layout": "IPY_MODEL_af0820107178405697f25d9ff647f18f",
      "placeholder": "​",
      "style": "IPY_MODEL_b1409956952640b5ad92fc319a17b929",
      "value": " 92579/92579 [00:03&lt;00:00, 29722.66it/s]"
     }
    },
    "1e17fa61ea954c96b70e06d6afa85b93": {
     "model_module": "@jupyter-widgets/controls",
     "model_name": "FloatProgressModel",
     "state": {
      "_dom_classes": [],
      "_model_module": "@jupyter-widgets/controls",
      "_model_module_version": "1.5.0",
      "_model_name": "FloatProgressModel",
      "_view_count": null,
      "_view_module": "@jupyter-widgets/controls",
      "_view_module_version": "1.5.0",
      "_view_name": "ProgressView",
      "bar_style": "success",
      "description": "100%",
      "description_tooltip": null,
      "layout": "IPY_MODEL_3bc31f5ec184493ca23459083a1b3701",
      "max": 92579,
      "min": 0,
      "orientation": "horizontal",
      "style": "IPY_MODEL_83d314937b934094865a0c4e65fe3fca",
      "value": 92579
     }
    },
    "3bc31f5ec184493ca23459083a1b3701": {
     "model_module": "@jupyter-widgets/base",
     "model_name": "LayoutModel",
     "state": {
      "_model_module": "@jupyter-widgets/base",
      "_model_module_version": "1.2.0",
      "_model_name": "LayoutModel",
      "_view_count": null,
      "_view_module": "@jupyter-widgets/base",
      "_view_module_version": "1.2.0",
      "_view_name": "LayoutView",
      "align_content": null,
      "align_items": null,
      "align_self": null,
      "border": null,
      "bottom": null,
      "display": null,
      "flex": null,
      "flex_flow": null,
      "grid_area": null,
      "grid_auto_columns": null,
      "grid_auto_flow": null,
      "grid_auto_rows": null,
      "grid_column": null,
      "grid_gap": null,
      "grid_row": null,
      "grid_template_areas": null,
      "grid_template_columns": null,
      "grid_template_rows": null,
      "height": null,
      "justify_content": null,
      "justify_items": null,
      "left": null,
      "margin": null,
      "max_height": null,
      "max_width": null,
      "min_height": null,
      "min_width": null,
      "object_fit": null,
      "object_position": null,
      "order": null,
      "overflow": null,
      "overflow_x": null,
      "overflow_y": null,
      "padding": null,
      "right": null,
      "top": null,
      "visibility": null,
      "width": null
     }
    },
    "695b9b102754467f868638161190d0fa": {
     "model_module": "@jupyter-widgets/base",
     "model_name": "LayoutModel",
     "state": {
      "_model_module": "@jupyter-widgets/base",
      "_model_module_version": "1.2.0",
      "_model_name": "LayoutModel",
      "_view_count": null,
      "_view_module": "@jupyter-widgets/base",
      "_view_module_version": "1.2.0",
      "_view_name": "LayoutView",
      "align_content": null,
      "align_items": null,
      "align_self": null,
      "border": null,
      "bottom": null,
      "display": null,
      "flex": null,
      "flex_flow": null,
      "grid_area": null,
      "grid_auto_columns": null,
      "grid_auto_flow": null,
      "grid_auto_rows": null,
      "grid_column": null,
      "grid_gap": null,
      "grid_row": null,
      "grid_template_areas": null,
      "grid_template_columns": null,
      "grid_template_rows": null,
      "height": null,
      "justify_content": null,
      "justify_items": null,
      "left": null,
      "margin": null,
      "max_height": null,
      "max_width": null,
      "min_height": null,
      "min_width": null,
      "object_fit": null,
      "object_position": null,
      "order": null,
      "overflow": null,
      "overflow_x": null,
      "overflow_y": null,
      "padding": null,
      "right": null,
      "top": null,
      "visibility": null,
      "width": null
     }
    },
    "83d314937b934094865a0c4e65fe3fca": {
     "model_module": "@jupyter-widgets/controls",
     "model_name": "ProgressStyleModel",
     "state": {
      "_model_module": "@jupyter-widgets/controls",
      "_model_module_version": "1.5.0",
      "_model_name": "ProgressStyleModel",
      "_view_count": null,
      "_view_module": "@jupyter-widgets/base",
      "_view_module_version": "1.2.0",
      "_view_name": "StyleView",
      "bar_color": null,
      "description_width": "initial"
     }
    },
    "af0820107178405697f25d9ff647f18f": {
     "model_module": "@jupyter-widgets/base",
     "model_name": "LayoutModel",
     "state": {
      "_model_module": "@jupyter-widgets/base",
      "_model_module_version": "1.2.0",
      "_model_name": "LayoutModel",
      "_view_count": null,
      "_view_module": "@jupyter-widgets/base",
      "_view_module_version": "1.2.0",
      "_view_name": "LayoutView",
      "align_content": null,
      "align_items": null,
      "align_self": null,
      "border": null,
      "bottom": null,
      "display": null,
      "flex": null,
      "flex_flow": null,
      "grid_area": null,
      "grid_auto_columns": null,
      "grid_auto_flow": null,
      "grid_auto_rows": null,
      "grid_column": null,
      "grid_gap": null,
      "grid_row": null,
      "grid_template_areas": null,
      "grid_template_columns": null,
      "grid_template_rows": null,
      "height": null,
      "justify_content": null,
      "justify_items": null,
      "left": null,
      "margin": null,
      "max_height": null,
      "max_width": null,
      "min_height": null,
      "min_width": null,
      "object_fit": null,
      "object_position": null,
      "order": null,
      "overflow": null,
      "overflow_x": null,
      "overflow_y": null,
      "padding": null,
      "right": null,
      "top": null,
      "visibility": null,
      "width": null
     }
    },
    "b1409956952640b5ad92fc319a17b929": {
     "model_module": "@jupyter-widgets/controls",
     "model_name": "DescriptionStyleModel",
     "state": {
      "_model_module": "@jupyter-widgets/controls",
      "_model_module_version": "1.5.0",
      "_model_name": "DescriptionStyleModel",
      "_view_count": null,
      "_view_module": "@jupyter-widgets/base",
      "_view_module_version": "1.2.0",
      "_view_name": "StyleView",
      "description_width": ""
     }
    }
   }
  }
 },
 "nbformat": 4,
 "nbformat_minor": 1
}
