{
 "cells": [
  {
   "cell_type": "code",
   "execution_count": 8,
   "metadata": {
    "colab": {},
    "colab_type": "code",
    "id": "b_18dIWJ0EQL"
   },
   "outputs": [],
   "source": [
    "# dependencies\n",
    "from tqdm.notebook import tqdm\n",
    "from pickle import load\n",
    "import pandas as pd\n",
    "import numpy as np\n",
    "import string"
   ]
  },
  {
   "cell_type": "markdown",
   "metadata": {
    "colab_type": "text",
    "id": "HUsPiUYL03P4"
   },
   "source": [
    "If you are on Colab make sure `stories.pkl` is in your present working directory. In our case, we saved it in a Drive folder in the earlier step and while executing the workflow of Step 2, we first copied `stories.pkl` from the Drive to Colab. "
   ]
  },
  {
   "cell_type": "code",
   "execution_count": null,
   "metadata": {
    "scrolled": false
   },
   "outputs": [],
   "source": [
    "!ls -l"
   ]
  },
  {
   "cell_type": "code",
   "execution_count": 10,
   "metadata": {
    "colab": {
     "base_uri": "https://localhost:8080/",
     "height": 34
    },
    "colab_type": "code",
    "executionInfo": {
     "elapsed": 2083,
     "status": "ok",
     "timestamp": 1593094558069,
     "user": {
      "displayName": "Sayak Paul",
      "photoUrl": "https://lh3.googleusercontent.com/a-/AOh14GguTuf38FCUyit9pR7Tb_Wn_DYPQwOLxSvLroSxsQ=s64",
      "userId": "05988433726211077895"
     },
     "user_tz": -330
    },
    "id": "DsypYt1C02jn",
    "outputId": "14a0f870-6248-44a0-b2a7-8f9e4fb0c39d"
   },
   "outputs": [
    {
     "name": "stdout",
     "output_type": "stream",
     "text": [
      "Loaded Stories 92579\n"
     ]
    }
   ],
   "source": [
    "# load stories and summaries' list\n",
    "stories = load(open('stories.pkl', 'rb'))\n",
    "print('Loaded Stories %d' % len(stories))"
   ]
  },
  {
   "cell_type": "code",
   "execution_count": 11,
   "metadata": {
    "colab": {},
    "colab_type": "code",
    "executionInfo": {
     "elapsed": 889,
     "status": "ok",
     "timestamp": 1593094616398,
     "user": {
      "displayName": "Sayak Paul",
      "photoUrl": "https://lh3.googleusercontent.com/a-/AOh14GguTuf38FCUyit9pR7Tb_Wn_DYPQwOLxSvLroSxsQ=s64",
      "userId": "05988433726211077895"
     },
     "user_tz": -330
    },
    "id": "d120jU201ZJ9"
   },
   "outputs": [],
   "source": [
    "# Create clean lines function\n",
    "def clean_lines(lines):\n",
    "    cleaned = list() # emply list\n",
    "    \n",
    "    # Create mapping table to remove punctuation\n",
    "    table = str.maketrans('', '', string.punctuation)\n",
    "    \n",
    "    for line in lines:\n",
    "        \n",
    "        # strip source cnn office if it exists\n",
    "        index = line.find('(CNN) -- ')\n",
    "        if index > -1:\n",
    "            line = line[index+len('(CNN)'):] # reassign the line w/o the string '(CNN)'\n",
    "      \n",
    "        # chunk line into words (tokenize) by splitting on white space\n",
    "        line = line.split() \n",
    "        \n",
    "        # use list comprehension to convert each word to lower case\n",
    "        line = [word.lower() for word in line]\n",
    "        \n",
    "        # remove punctuation from each token\n",
    "        # use list comprehension to apply punctuation mapping table remove all punctuation\n",
    "        line = [w.translate(table) for w in line]\n",
    "        \n",
    "        # remove tokens with numbers in them\n",
    "        # use list comprehension to exclude all tokens with numbers in them\n",
    "        line = [word for word in line if word.isalpha()]\n",
    "        \n",
    "        # store as string\n",
    "        # join tokens in each line as strings joined by whitespace\n",
    "        # append the joined strings to the emply list, cleaned = []\n",
    "        cleaned.append(' '.join(line))\n",
    "        \n",
    "    # remove empty strings\n",
    "    cleaned = [c for c in cleaned if len(c) > 0]\n",
    "    return cleaned"
   ]
  },
  {
   "cell_type": "code",
   "execution_count": 13,
   "metadata": {
    "colab": {
     "base_uri": "https://localhost:8080/",
     "height": 66,
     "referenced_widgets": [
      "4ca0434ad74e445fb3b38879ae01c09c",
      "7852659dc92d478e9aed023cb9860ab2",
      "ef24586f9e6c4ff2af73c68915bc95b7",
      "35ce0b228e0e42a8bde9102cf542e86e",
      "31823bbf922d4f269f1828b66a5575ce",
      "c59c05f26e3b4f10968a800176c20c75",
      "433ba2690bd24a468dcfdeeb9c2bba56",
      "cf281d8909804012b53a40d15e9f2a70"
     ]
    },
    "colab_type": "code",
    "executionInfo": {
     "elapsed": 65337,
     "status": "ok",
     "timestamp": 1593094702988,
     "user": {
      "displayName": "Sayak Paul",
      "photoUrl": "https://lh3.googleusercontent.com/a-/AOh14GguTuf38FCUyit9pR7Tb_Wn_DYPQwOLxSvLroSxsQ=s64",
      "userId": "05988433726211077895"
     },
     "user_tz": -330
    },
    "id": "5nZ1uzYM1rFc",
    "outputId": "308c0a09-18f7-4b7d-d437-d4b27e94c0e7"
   },
   "outputs": [
    {
     "data": {
      "application/vnd.jupyter.widget-view+json": {
       "model_id": "a97595bf0eb64c8eb496d477283f1620",
       "version_major": 2,
       "version_minor": 0
      },
      "text/plain": [
       "  0%|          | 0/92579 [00:00<?, ?it/s]"
      ]
     },
     "metadata": {},
     "output_type": "display_data"
    }
   ],
   "source": [
    "# clean th stories and summaries\n",
    "for example in tqdm(stories):\n",
    "    example['story'] = clean_lines(example['story'].split('\\n'))\n",
    "    example['highlights'] = clean_lines(example['highlights'])"
   ]
  },
  {
   "cell_type": "code",
   "execution_count": 14,
   "metadata": {
    "colab": {},
    "colab_type": "code",
    "executionInfo": {
     "elapsed": 6071,
     "status": "ok",
     "timestamp": 1593094709066,
     "user": {
      "displayName": "Sayak Paul",
      "photoUrl": "https://lh3.googleusercontent.com/a-/AOh14GguTuf38FCUyit9pR7Tb_Wn_DYPQwOLxSvLroSxsQ=s64",
      "userId": "05988433726211077895"
     },
     "user_tz": -330
    },
    "id": "NU4O6V7-1wfV"
   },
   "outputs": [],
   "source": [
    "# install the Rouge module for calculating the Rouge scores\n",
    "!pip install -q Rouge"
   ]
  },
  {
   "cell_type": "code",
   "execution_count": 15,
   "metadata": {
    "colab": {},
    "colab_type": "code",
    "executionInfo": {
     "elapsed": 613,
     "status": "ok",
     "timestamp": 1593094733891,
     "user": {
      "displayName": "Sayak Paul",
      "photoUrl": "https://lh3.googleusercontent.com/a-/AOh14GguTuf38FCUyit9pR7Tb_Wn_DYPQwOLxSvLroSxsQ=s64",
      "userId": "05988433726211077895"
     },
     "user_tz": -330
    },
    "id": "gc2U5_dR2EVA"
   },
   "outputs": [],
   "source": [
    "# import the Rouge module and instantiate it\n",
    "from rouge import Rouge \n",
    "rouge = Rouge()"
   ]
  },
  {
   "cell_type": "code",
   "execution_count": 16,
   "metadata": {
    "colab": {},
    "colab_type": "code",
    "executionInfo": {
     "elapsed": 1057,
     "status": "ok",
     "timestamp": 1593094797093,
     "user": {
      "displayName": "Sayak Paul",
      "photoUrl": "https://lh3.googleusercontent.com/a-/AOh14GguTuf38FCUyit9pR7Tb_Wn_DYPQwOLxSvLroSxsQ=s64",
      "userId": "05988433726211077895"
     },
     "user_tz": -330
    },
    "id": "J_VQGyGM1-Re"
   },
   "outputs": [],
   "source": [
    "# utility for calculating Rouge score between pairs of sentences\n",
    "def get_rouge_f1(references, sentence):\n",
    "    score_ls = []\n",
    "    for ans in references :\n",
    "        scores = rouge.get_scores(ans, sentence)\n",
    "        score_ls.append(scores[0]['rouge-1']['f'])\n",
    "    \n",
    "    return max(score_ls)"
   ]
  },
  {
   "cell_type": "code",
   "execution_count": 17,
   "metadata": {
    "colab": {},
    "colab_type": "code",
    "executionInfo": {
     "elapsed": 855,
     "status": "ok",
     "timestamp": 1593095033941,
     "user": {
      "displayName": "Sayak Paul",
      "photoUrl": "https://lh3.googleusercontent.com/a-/AOh14GguTuf38FCUyit9pR7Tb_Wn_DYPQwOLxSvLroSxsQ=s64",
      "userId": "05988433726211077895"
     },
     "user_tz": -330
    },
    "id": "Si3fLx5p2XKZ"
   },
   "outputs": [],
   "source": [
    "def get_list_ans_each_story(story_inp, references_inp):\n",
    "    \n",
    "    scr = []\n",
    "    hyp = []\n",
    "\n",
    "    # iterate through each sentence of a given story\n",
    "    for i in range(0, len(story_inp)):\n",
    "        # calculate Rouge score between the current sentence and the\n",
    "        # provided (abstractive summaries)\n",
    "        hypothesis = story_inp[i]\n",
    "        scores = get_rouge_f1(references_inp, hypothesis)\n",
    "\n",
    "        # track sentences iterated and store their scores\n",
    "        hyp.append(hypothesis)\n",
    "        scr.append(scores)\n",
    "        \n",
    "    # convert to NumPy array\n",
    "    hyp1 = np.array(hyp)\n",
    "    \n",
    "    # sort the scores to get the indices\n",
    "    scr1 = np.array(scr)\n",
    "    scr2 = np.sort(scr)[::-1]\n",
    "    ind  = np.argsort(scr)[::-1]\n",
    "    \n",
    "    # take top 5 \n",
    "    ind1 = ind[0:5]\n",
    "    list_ref = list(hyp1[ind1])\n",
    "    \n",
    "    return list_ref, scr2[0:5]"
   ]
  },
  {
   "cell_type": "code",
   "execution_count": 18,
   "metadata": {
    "colab": {
     "base_uri": "https://localhost:8080/",
     "height": 66,
     "referenced_widgets": [
      "6ce19d89c9264ea3b0a989583eb015c9",
      "6ac90abbb0734fe8af163222effba828",
      "858f6d8787b741babd7548ba08aca371",
      "ce3768e6a40042cca07ef4510fa04feb",
      "2af0f4b6b0c54ebcb91c04aedf25596e",
      "cc4b57554f24431bb47f598e08d0d809",
      "2566b5c89ce04f8299ccabd9ee343a16",
      "3ad9bd1d11414bb382904d44e3dcba19"
     ]
    },
    "colab_type": "code",
    "executionInfo": {
     "elapsed": 4322458,
     "status": "ok",
     "timestamp": 1593099434365,
     "user": {
      "displayName": "Sayak Paul",
      "photoUrl": "https://lh3.googleusercontent.com/a-/AOh14GguTuf38FCUyit9pR7Tb_Wn_DYPQwOLxSvLroSxsQ=s64",
      "userId": "05988433726211077895"
     },
     "user_tz": -330
    },
    "id": "_Ol8fKcT3RBX",
    "outputId": "b4b6bd0e-8a68-43d0-91b6-22de64cf06dd"
   },
   "outputs": [
    {
     "data": {
      "application/vnd.jupyter.widget-view+json": {
       "model_id": "6f5c107e31c744e4ac96b245dd66f3f3",
       "version_major": 2,
       "version_minor": 0
      },
      "text/plain": [
       "  0%|          | 0/92579 [00:00<?, ?it/s]"
      ]
     },
     "metadata": {},
     "output_type": "display_data"
    }
   ],
   "source": [
    "dict_id_summary = {}\n",
    "dict_id_score = {}\n",
    "\n",
    "# iterate through each story\n",
    "for s_id in tqdm(range(0, len(stories))):\n",
    "    \n",
    "    # story inputs (each sentence of a story)\n",
    "    story_inp = stories[s_id]['story']\n",
    "    \n",
    "    # reference inputs (abstractive summaries)\n",
    "    references_inp = stories[s_id]['highlights']\n",
    "    \n",
    "    # get the list of references and scores\n",
    "    list_ref, list_score = get_list_ans_each_story(story_inp, references_inp)\n",
    "    \n",
    "    # store the results in the dictionaries\n",
    "    dict_id_summary[s_id] = list_ref\n",
    "    dict_id_score[s_id] = list_score"
   ]
  },
  {
   "cell_type": "markdown",
   "metadata": {
    "colab_type": "text",
    "id": "ohqjxXjn3pTp"
   },
   "source": [
    "As this is a time-consuming operation, it's better to store the dictionaries created above as `.pkl` files so that they can be used later as needed. "
   ]
  },
  {
   "cell_type": "code",
   "execution_count": 19,
   "metadata": {
    "colab": {
     "base_uri": "https://localhost:8080/",
     "height": 66,
     "referenced_widgets": [
      "2e8ef83945494eda9fc6ef2cf0f6e98a",
      "0b52a19674f14753a32c694f8b1bd94c",
      "9ddbb6c3f5904bd09fe53b353851b3b4",
      "3e8fa13102bd44f48d3974b03337661c",
      "c011451b289a4fc5ad375fe118f318f4",
      "f4d0ea84348b4ac6977344932ae22e11",
      "c4365305962741b1aaf6269941557b75",
      "bad401e8f5c348b69b34b17e1532e8a2"
     ]
    },
    "colab_type": "code",
    "executionInfo": {
     "elapsed": 3160,
     "status": "ok",
     "timestamp": 1593099468745,
     "user": {
      "displayName": "Sayak Paul",
      "photoUrl": "https://lh3.googleusercontent.com/a-/AOh14GguTuf38FCUyit9pR7Tb_Wn_DYPQwOLxSvLroSxsQ=s64",
      "userId": "05988433726211077895"
     },
     "user_tz": -330
    },
    "id": "Q9zcB_Sf3gsy",
    "outputId": "caa27022-253c-4fb5-8839-91d2d52e9e1d"
   },
   "outputs": [
    {
     "data": {
      "application/vnd.jupyter.widget-view+json": {
       "model_id": "cd2aa20e681142359872b7d1d2870732",
       "version_major": 2,
       "version_minor": 0
      },
      "text/plain": [
       "  0%|          | 0/92579 [00:00<?, ?it/s]"
      ]
     },
     "metadata": {},
     "output_type": "display_data"
    }
   ],
   "source": [
    "story_id = []\n",
    "label_sent = []\n",
    "sent_id = []\n",
    "list_sent = []\n",
    "\n",
    "# iterate through each story\n",
    "for i in tqdm(range(0, len(stories))):\n",
    "    \n",
    "    # list of references for the story\n",
    "    list_ref = dict_id_summary[i]\n",
    "    \n",
    "    # iterate through each sentence of the current story\n",
    "    for j, story in enumerate(stories[i]['story']) :\n",
    "        \n",
    "        # check if the story is in the list reference\n",
    "        ind =  int(story in list_ref)\n",
    "        \n",
    "        # append the indicator as the labels\n",
    "        label_sent.append(ind)\n",
    "        \n",
    "        # 1. append the sentences per story\n",
    "        list_sent.append(story)\n",
    "        \n",
    "        # 2. append the sent_ids\n",
    "        sent_id.append(j)\n",
    "        \n",
    "        # 3. append the story_id\n",
    "        story_id.append(i)"
   ]
  },
  {
   "cell_type": "code",
   "execution_count": 20,
   "metadata": {
    "colab": {},
    "colab_type": "code",
    "executionInfo": {
     "elapsed": 3250,
     "status": "ok",
     "timestamp": 1593099498234,
     "user": {
      "displayName": "Sayak Paul",
      "photoUrl": "https://lh3.googleusercontent.com/a-/AOh14GguTuf38FCUyit9pR7Tb_Wn_DYPQwOLxSvLroSxsQ=s64",
      "userId": "05988433726211077895"
     },
     "user_tz": -330
    },
    "id": "w7sLAbTs4bW8"
   },
   "outputs": [],
   "source": [
    "# create the dataframe\n",
    "df_story_summary = pd.DataFrame()\n",
    "\n",
    "df_story_summary['story_id'] = story_id\n",
    "df_story_summary['sent_id'] = sent_id\n",
    "df_story_summary['sentence'] = list_sent\n",
    "df_story_summary['label_sent'] = label_sent"
   ]
  },
  {
   "cell_type": "code",
   "execution_count": 21,
   "metadata": {
    "colab": {
     "base_uri": "https://localhost:8080/",
     "height": 204
    },
    "colab_type": "code",
    "executionInfo": {
     "elapsed": 1136,
     "status": "ok",
     "timestamp": 1593099514107,
     "user": {
      "displayName": "Sayak Paul",
      "photoUrl": "https://lh3.googleusercontent.com/a-/AOh14GguTuf38FCUyit9pR7Tb_Wn_DYPQwOLxSvLroSxsQ=s64",
      "userId": "05988433726211077895"
     },
     "user_tz": -330
    },
    "id": "7wRIQ_zi4dp7",
    "outputId": "3fda98f0-b3a8-45b0-b66c-ebb1aec95b80"
   },
   "outputs": [
    {
     "data": {
      "text/html": [
       "<div>\n",
       "<style scoped>\n",
       "    .dataframe tbody tr th:only-of-type {\n",
       "        vertical-align: middle;\n",
       "    }\n",
       "\n",
       "    .dataframe tbody tr th {\n",
       "        vertical-align: top;\n",
       "    }\n",
       "\n",
       "    .dataframe thead th {\n",
       "        text-align: right;\n",
       "    }\n",
       "</style>\n",
       "<table border=\"1\" class=\"dataframe\">\n",
       "  <thead>\n",
       "    <tr style=\"text-align: right;\">\n",
       "      <th></th>\n",
       "      <th>story_id</th>\n",
       "      <th>sent_id</th>\n",
       "      <th>sentence</th>\n",
       "      <th>label_sent</th>\n",
       "    </tr>\n",
       "  </thead>\n",
       "  <tbody>\n",
       "    <tr>\n",
       "      <th>0</th>\n",
       "      <td>0</td>\n",
       "      <td>0</td>\n",
       "      <td>at the start of a big week for the higgs boson...</td>\n",
       "      <td>0</td>\n",
       "    </tr>\n",
       "    <tr>\n",
       "      <th>1</th>\n",
       "      <td>0</td>\n",
       "      <td>1</td>\n",
       "      <td>the scientists outlined their final analysis b...</td>\n",
       "      <td>0</td>\n",
       "    </tr>\n",
       "    <tr>\n",
       "      <th>2</th>\n",
       "      <td>0</td>\n",
       "      <td>2</td>\n",
       "      <td>what is the higgs boson and why is it important</td>\n",
       "      <td>1</td>\n",
       "    </tr>\n",
       "    <tr>\n",
       "      <th>3</th>\n",
       "      <td>0</td>\n",
       "      <td>3</td>\n",
       "      <td>their announcement came two days before resear...</td>\n",
       "      <td>0</td>\n",
       "    </tr>\n",
       "    <tr>\n",
       "      <th>4</th>\n",
       "      <td>0</td>\n",
       "      <td>4</td>\n",
       "      <td>our data strongly point toward the existence o...</td>\n",
       "      <td>0</td>\n",
       "    </tr>\n",
       "  </tbody>\n",
       "</table>\n",
       "</div>"
      ],
      "text/plain": [
       "   story_id  sent_id                                           sentence  \\\n",
       "0         0        0  at the start of a big week for the higgs boson...   \n",
       "1         0        1  the scientists outlined their final analysis b...   \n",
       "2         0        2    what is the higgs boson and why is it important   \n",
       "3         0        3  their announcement came two days before resear...   \n",
       "4         0        4  our data strongly point toward the existence o...   \n",
       "\n",
       "   label_sent  \n",
       "0           0  \n",
       "1           0  \n",
       "2           1  \n",
       "3           0  \n",
       "4           0  "
      ]
     },
     "execution_count": 21,
     "metadata": {},
     "output_type": "execute_result"
    }
   ],
   "source": [
    "# preview the dataframe\n",
    "df_story_summary.head()"
   ]
  },
  {
   "cell_type": "code",
   "execution_count": 22,
   "metadata": {
    "colab": {},
    "colab_type": "code",
    "executionInfo": {
     "elapsed": 4322,
     "status": "ok",
     "timestamp": 1593099520760,
     "user": {
      "displayName": "Sayak Paul",
      "photoUrl": "https://lh3.googleusercontent.com/a-/AOh14GguTuf38FCUyit9pR7Tb_Wn_DYPQwOLxSvLroSxsQ=s64",
      "userId": "05988433726211077895"
     },
     "user_tz": -330
    },
    "id": "fq4o0IBK4kax"
   },
   "outputs": [],
   "source": [
    "# serialize\n",
    "df_story_summary.to_pickle('dataframe_extractive.pkl')"
   ]
  },
  {
   "cell_type": "code",
   "execution_count": null,
   "metadata": {
    "scrolled": true
   },
   "outputs": [],
   "source": [
    "!ls -l"
   ]
  },
  {
   "cell_type": "code",
   "execution_count": null,
   "metadata": {},
   "outputs": [],
   "source": []
  }
 ],
 "metadata": {
  "colab": {
   "authorship_tag": "ABX9TyN7MQFqsCxJwYqaxUCIKAUJ",
   "collapsed_sections": [],
   "mount_file_id": "1X5PYUIhueYkBAlSv14XxvBuic6oitLAL",
   "name": "Milestone_2_Solution.ipynb",
   "provenance": []
  },
  "kernelspec": {
   "display_name": "Python 3",
   "language": "python",
   "name": "python3"
  },
  "language_info": {
   "codemirror_mode": {
    "name": "ipython",
    "version": 3
   },
   "file_extension": ".py",
   "mimetype": "text/x-python",
   "name": "python",
   "nbconvert_exporter": "python",
   "pygments_lexer": "ipython3",
   "version": "3.8.8"
  },
  "widgets": {
   "application/vnd.jupyter.widget-state+json": {
    "0b52a19674f14753a32c694f8b1bd94c": {
     "model_module": "@jupyter-widgets/base",
     "model_name": "LayoutModel",
     "state": {
      "_model_module": "@jupyter-widgets/base",
      "_model_module_version": "1.2.0",
      "_model_name": "LayoutModel",
      "_view_count": null,
      "_view_module": "@jupyter-widgets/base",
      "_view_module_version": "1.2.0",
      "_view_name": "LayoutView",
      "align_content": null,
      "align_items": null,
      "align_self": null,
      "border": null,
      "bottom": null,
      "display": null,
      "flex": null,
      "flex_flow": null,
      "grid_area": null,
      "grid_auto_columns": null,
      "grid_auto_flow": null,
      "grid_auto_rows": null,
      "grid_column": null,
      "grid_gap": null,
      "grid_row": null,
      "grid_template_areas": null,
      "grid_template_columns": null,
      "grid_template_rows": null,
      "height": null,
      "justify_content": null,
      "justify_items": null,
      "left": null,
      "margin": null,
      "max_height": null,
      "max_width": null,
      "min_height": null,
      "min_width": null,
      "object_fit": null,
      "object_position": null,
      "order": null,
      "overflow": null,
      "overflow_x": null,
      "overflow_y": null,
      "padding": null,
      "right": null,
      "top": null,
      "visibility": null,
      "width": null
     }
    },
    "2566b5c89ce04f8299ccabd9ee343a16": {
     "model_module": "@jupyter-widgets/controls",
     "model_name": "DescriptionStyleModel",
     "state": {
      "_model_module": "@jupyter-widgets/controls",
      "_model_module_version": "1.5.0",
      "_model_name": "DescriptionStyleModel",
      "_view_count": null,
      "_view_module": "@jupyter-widgets/base",
      "_view_module_version": "1.2.0",
      "_view_name": "StyleView",
      "description_width": ""
     }
    },
    "2af0f4b6b0c54ebcb91c04aedf25596e": {
     "model_module": "@jupyter-widgets/controls",
     "model_name": "ProgressStyleModel",
     "state": {
      "_model_module": "@jupyter-widgets/controls",
      "_model_module_version": "1.5.0",
      "_model_name": "ProgressStyleModel",
      "_view_count": null,
      "_view_module": "@jupyter-widgets/base",
      "_view_module_version": "1.2.0",
      "_view_name": "StyleView",
      "bar_color": null,
      "description_width": "initial"
     }
    },
    "2e8ef83945494eda9fc6ef2cf0f6e98a": {
     "model_module": "@jupyter-widgets/controls",
     "model_name": "HBoxModel",
     "state": {
      "_dom_classes": [],
      "_model_module": "@jupyter-widgets/controls",
      "_model_module_version": "1.5.0",
      "_model_name": "HBoxModel",
      "_view_count": null,
      "_view_module": "@jupyter-widgets/controls",
      "_view_module_version": "1.5.0",
      "_view_name": "HBoxView",
      "box_style": "",
      "children": [
       "IPY_MODEL_9ddbb6c3f5904bd09fe53b353851b3b4",
       "IPY_MODEL_3e8fa13102bd44f48d3974b03337661c"
      ],
      "layout": "IPY_MODEL_0b52a19674f14753a32c694f8b1bd94c"
     }
    },
    "31823bbf922d4f269f1828b66a5575ce": {
     "model_module": "@jupyter-widgets/controls",
     "model_name": "ProgressStyleModel",
     "state": {
      "_model_module": "@jupyter-widgets/controls",
      "_model_module_version": "1.5.0",
      "_model_name": "ProgressStyleModel",
      "_view_count": null,
      "_view_module": "@jupyter-widgets/base",
      "_view_module_version": "1.2.0",
      "_view_name": "StyleView",
      "bar_color": null,
      "description_width": "initial"
     }
    },
    "35ce0b228e0e42a8bde9102cf542e86e": {
     "model_module": "@jupyter-widgets/controls",
     "model_name": "HTMLModel",
     "state": {
      "_dom_classes": [],
      "_model_module": "@jupyter-widgets/controls",
      "_model_module_version": "1.5.0",
      "_model_name": "HTMLModel",
      "_view_count": null,
      "_view_module": "@jupyter-widgets/controls",
      "_view_module_version": "1.5.0",
      "_view_name": "HTMLView",
      "description": "",
      "description_tooltip": null,
      "layout": "IPY_MODEL_cf281d8909804012b53a40d15e9f2a70",
      "placeholder": "​",
      "style": "IPY_MODEL_433ba2690bd24a468dcfdeeb9c2bba56",
      "value": " 92579/92579 [08:11&lt;00:00, 188.29it/s]"
     }
    },
    "3ad9bd1d11414bb382904d44e3dcba19": {
     "model_module": "@jupyter-widgets/base",
     "model_name": "LayoutModel",
     "state": {
      "_model_module": "@jupyter-widgets/base",
      "_model_module_version": "1.2.0",
      "_model_name": "LayoutModel",
      "_view_count": null,
      "_view_module": "@jupyter-widgets/base",
      "_view_module_version": "1.2.0",
      "_view_name": "LayoutView",
      "align_content": null,
      "align_items": null,
      "align_self": null,
      "border": null,
      "bottom": null,
      "display": null,
      "flex": null,
      "flex_flow": null,
      "grid_area": null,
      "grid_auto_columns": null,
      "grid_auto_flow": null,
      "grid_auto_rows": null,
      "grid_column": null,
      "grid_gap": null,
      "grid_row": null,
      "grid_template_areas": null,
      "grid_template_columns": null,
      "grid_template_rows": null,
      "height": null,
      "justify_content": null,
      "justify_items": null,
      "left": null,
      "margin": null,
      "max_height": null,
      "max_width": null,
      "min_height": null,
      "min_width": null,
      "object_fit": null,
      "object_position": null,
      "order": null,
      "overflow": null,
      "overflow_x": null,
      "overflow_y": null,
      "padding": null,
      "right": null,
      "top": null,
      "visibility": null,
      "width": null
     }
    },
    "3e8fa13102bd44f48d3974b03337661c": {
     "model_module": "@jupyter-widgets/controls",
     "model_name": "HTMLModel",
     "state": {
      "_dom_classes": [],
      "_model_module": "@jupyter-widgets/controls",
      "_model_module_version": "1.5.0",
      "_model_name": "HTMLModel",
      "_view_count": null,
      "_view_module": "@jupyter-widgets/controls",
      "_view_module_version": "1.5.0",
      "_view_name": "HTMLView",
      "description": "",
      "description_tooltip": null,
      "layout": "IPY_MODEL_bad401e8f5c348b69b34b17e1532e8a2",
      "placeholder": "​",
      "style": "IPY_MODEL_c4365305962741b1aaf6269941557b75",
      "value": " 92579/92579 [00:05&lt;00:00, 17739.89it/s]"
     }
    },
    "433ba2690bd24a468dcfdeeb9c2bba56": {
     "model_module": "@jupyter-widgets/controls",
     "model_name": "DescriptionStyleModel",
     "state": {
      "_model_module": "@jupyter-widgets/controls",
      "_model_module_version": "1.5.0",
      "_model_name": "DescriptionStyleModel",
      "_view_count": null,
      "_view_module": "@jupyter-widgets/base",
      "_view_module_version": "1.2.0",
      "_view_name": "StyleView",
      "description_width": ""
     }
    },
    "4ca0434ad74e445fb3b38879ae01c09c": {
     "model_module": "@jupyter-widgets/controls",
     "model_name": "HBoxModel",
     "state": {
      "_dom_classes": [],
      "_model_module": "@jupyter-widgets/controls",
      "_model_module_version": "1.5.0",
      "_model_name": "HBoxModel",
      "_view_count": null,
      "_view_module": "@jupyter-widgets/controls",
      "_view_module_version": "1.5.0",
      "_view_name": "HBoxView",
      "box_style": "",
      "children": [
       "IPY_MODEL_ef24586f9e6c4ff2af73c68915bc95b7",
       "IPY_MODEL_35ce0b228e0e42a8bde9102cf542e86e"
      ],
      "layout": "IPY_MODEL_7852659dc92d478e9aed023cb9860ab2"
     }
    },
    "6ac90abbb0734fe8af163222effba828": {
     "model_module": "@jupyter-widgets/base",
     "model_name": "LayoutModel",
     "state": {
      "_model_module": "@jupyter-widgets/base",
      "_model_module_version": "1.2.0",
      "_model_name": "LayoutModel",
      "_view_count": null,
      "_view_module": "@jupyter-widgets/base",
      "_view_module_version": "1.2.0",
      "_view_name": "LayoutView",
      "align_content": null,
      "align_items": null,
      "align_self": null,
      "border": null,
      "bottom": null,
      "display": null,
      "flex": null,
      "flex_flow": null,
      "grid_area": null,
      "grid_auto_columns": null,
      "grid_auto_flow": null,
      "grid_auto_rows": null,
      "grid_column": null,
      "grid_gap": null,
      "grid_row": null,
      "grid_template_areas": null,
      "grid_template_columns": null,
      "grid_template_rows": null,
      "height": null,
      "justify_content": null,
      "justify_items": null,
      "left": null,
      "margin": null,
      "max_height": null,
      "max_width": null,
      "min_height": null,
      "min_width": null,
      "object_fit": null,
      "object_position": null,
      "order": null,
      "overflow": null,
      "overflow_x": null,
      "overflow_y": null,
      "padding": null,
      "right": null,
      "top": null,
      "visibility": null,
      "width": null
     }
    },
    "6ce19d89c9264ea3b0a989583eb015c9": {
     "model_module": "@jupyter-widgets/controls",
     "model_name": "HBoxModel",
     "state": {
      "_dom_classes": [],
      "_model_module": "@jupyter-widgets/controls",
      "_model_module_version": "1.5.0",
      "_model_name": "HBoxModel",
      "_view_count": null,
      "_view_module": "@jupyter-widgets/controls",
      "_view_module_version": "1.5.0",
      "_view_name": "HBoxView",
      "box_style": "",
      "children": [
       "IPY_MODEL_858f6d8787b741babd7548ba08aca371",
       "IPY_MODEL_ce3768e6a40042cca07ef4510fa04feb"
      ],
      "layout": "IPY_MODEL_6ac90abbb0734fe8af163222effba828"
     }
    },
    "7852659dc92d478e9aed023cb9860ab2": {
     "model_module": "@jupyter-widgets/base",
     "model_name": "LayoutModel",
     "state": {
      "_model_module": "@jupyter-widgets/base",
      "_model_module_version": "1.2.0",
      "_model_name": "LayoutModel",
      "_view_count": null,
      "_view_module": "@jupyter-widgets/base",
      "_view_module_version": "1.2.0",
      "_view_name": "LayoutView",
      "align_content": null,
      "align_items": null,
      "align_self": null,
      "border": null,
      "bottom": null,
      "display": null,
      "flex": null,
      "flex_flow": null,
      "grid_area": null,
      "grid_auto_columns": null,
      "grid_auto_flow": null,
      "grid_auto_rows": null,
      "grid_column": null,
      "grid_gap": null,
      "grid_row": null,
      "grid_template_areas": null,
      "grid_template_columns": null,
      "grid_template_rows": null,
      "height": null,
      "justify_content": null,
      "justify_items": null,
      "left": null,
      "margin": null,
      "max_height": null,
      "max_width": null,
      "min_height": null,
      "min_width": null,
      "object_fit": null,
      "object_position": null,
      "order": null,
      "overflow": null,
      "overflow_x": null,
      "overflow_y": null,
      "padding": null,
      "right": null,
      "top": null,
      "visibility": null,
      "width": null
     }
    },
    "858f6d8787b741babd7548ba08aca371": {
     "model_module": "@jupyter-widgets/controls",
     "model_name": "FloatProgressModel",
     "state": {
      "_dom_classes": [],
      "_model_module": "@jupyter-widgets/controls",
      "_model_module_version": "1.5.0",
      "_model_name": "FloatProgressModel",
      "_view_count": null,
      "_view_module": "@jupyter-widgets/controls",
      "_view_module_version": "1.5.0",
      "_view_name": "ProgressView",
      "bar_style": "success",
      "description": "100%",
      "description_tooltip": null,
      "layout": "IPY_MODEL_cc4b57554f24431bb47f598e08d0d809",
      "max": 92579,
      "min": 0,
      "orientation": "horizontal",
      "style": "IPY_MODEL_2af0f4b6b0c54ebcb91c04aedf25596e",
      "value": 92579
     }
    },
    "9ddbb6c3f5904bd09fe53b353851b3b4": {
     "model_module": "@jupyter-widgets/controls",
     "model_name": "FloatProgressModel",
     "state": {
      "_dom_classes": [],
      "_model_module": "@jupyter-widgets/controls",
      "_model_module_version": "1.5.0",
      "_model_name": "FloatProgressModel",
      "_view_count": null,
      "_view_module": "@jupyter-widgets/controls",
      "_view_module_version": "1.5.0",
      "_view_name": "ProgressView",
      "bar_style": "success",
      "description": "100%",
      "description_tooltip": null,
      "layout": "IPY_MODEL_f4d0ea84348b4ac6977344932ae22e11",
      "max": 92579,
      "min": 0,
      "orientation": "horizontal",
      "style": "IPY_MODEL_c011451b289a4fc5ad375fe118f318f4",
      "value": 92579
     }
    },
    "bad401e8f5c348b69b34b17e1532e8a2": {
     "model_module": "@jupyter-widgets/base",
     "model_name": "LayoutModel",
     "state": {
      "_model_module": "@jupyter-widgets/base",
      "_model_module_version": "1.2.0",
      "_model_name": "LayoutModel",
      "_view_count": null,
      "_view_module": "@jupyter-widgets/base",
      "_view_module_version": "1.2.0",
      "_view_name": "LayoutView",
      "align_content": null,
      "align_items": null,
      "align_self": null,
      "border": null,
      "bottom": null,
      "display": null,
      "flex": null,
      "flex_flow": null,
      "grid_area": null,
      "grid_auto_columns": null,
      "grid_auto_flow": null,
      "grid_auto_rows": null,
      "grid_column": null,
      "grid_gap": null,
      "grid_row": null,
      "grid_template_areas": null,
      "grid_template_columns": null,
      "grid_template_rows": null,
      "height": null,
      "justify_content": null,
      "justify_items": null,
      "left": null,
      "margin": null,
      "max_height": null,
      "max_width": null,
      "min_height": null,
      "min_width": null,
      "object_fit": null,
      "object_position": null,
      "order": null,
      "overflow": null,
      "overflow_x": null,
      "overflow_y": null,
      "padding": null,
      "right": null,
      "top": null,
      "visibility": null,
      "width": null
     }
    },
    "c011451b289a4fc5ad375fe118f318f4": {
     "model_module": "@jupyter-widgets/controls",
     "model_name": "ProgressStyleModel",
     "state": {
      "_model_module": "@jupyter-widgets/controls",
      "_model_module_version": "1.5.0",
      "_model_name": "ProgressStyleModel",
      "_view_count": null,
      "_view_module": "@jupyter-widgets/base",
      "_view_module_version": "1.2.0",
      "_view_name": "StyleView",
      "bar_color": null,
      "description_width": "initial"
     }
    },
    "c4365305962741b1aaf6269941557b75": {
     "model_module": "@jupyter-widgets/controls",
     "model_name": "DescriptionStyleModel",
     "state": {
      "_model_module": "@jupyter-widgets/controls",
      "_model_module_version": "1.5.0",
      "_model_name": "DescriptionStyleModel",
      "_view_count": null,
      "_view_module": "@jupyter-widgets/base",
      "_view_module_version": "1.2.0",
      "_view_name": "StyleView",
      "description_width": ""
     }
    },
    "c59c05f26e3b4f10968a800176c20c75": {
     "model_module": "@jupyter-widgets/base",
     "model_name": "LayoutModel",
     "state": {
      "_model_module": "@jupyter-widgets/base",
      "_model_module_version": "1.2.0",
      "_model_name": "LayoutModel",
      "_view_count": null,
      "_view_module": "@jupyter-widgets/base",
      "_view_module_version": "1.2.0",
      "_view_name": "LayoutView",
      "align_content": null,
      "align_items": null,
      "align_self": null,
      "border": null,
      "bottom": null,
      "display": null,
      "flex": null,
      "flex_flow": null,
      "grid_area": null,
      "grid_auto_columns": null,
      "grid_auto_flow": null,
      "grid_auto_rows": null,
      "grid_column": null,
      "grid_gap": null,
      "grid_row": null,
      "grid_template_areas": null,
      "grid_template_columns": null,
      "grid_template_rows": null,
      "height": null,
      "justify_content": null,
      "justify_items": null,
      "left": null,
      "margin": null,
      "max_height": null,
      "max_width": null,
      "min_height": null,
      "min_width": null,
      "object_fit": null,
      "object_position": null,
      "order": null,
      "overflow": null,
      "overflow_x": null,
      "overflow_y": null,
      "padding": null,
      "right": null,
      "top": null,
      "visibility": null,
      "width": null
     }
    },
    "cc4b57554f24431bb47f598e08d0d809": {
     "model_module": "@jupyter-widgets/base",
     "model_name": "LayoutModel",
     "state": {
      "_model_module": "@jupyter-widgets/base",
      "_model_module_version": "1.2.0",
      "_model_name": "LayoutModel",
      "_view_count": null,
      "_view_module": "@jupyter-widgets/base",
      "_view_module_version": "1.2.0",
      "_view_name": "LayoutView",
      "align_content": null,
      "align_items": null,
      "align_self": null,
      "border": null,
      "bottom": null,
      "display": null,
      "flex": null,
      "flex_flow": null,
      "grid_area": null,
      "grid_auto_columns": null,
      "grid_auto_flow": null,
      "grid_auto_rows": null,
      "grid_column": null,
      "grid_gap": null,
      "grid_row": null,
      "grid_template_areas": null,
      "grid_template_columns": null,
      "grid_template_rows": null,
      "height": null,
      "justify_content": null,
      "justify_items": null,
      "left": null,
      "margin": null,
      "max_height": null,
      "max_width": null,
      "min_height": null,
      "min_width": null,
      "object_fit": null,
      "object_position": null,
      "order": null,
      "overflow": null,
      "overflow_x": null,
      "overflow_y": null,
      "padding": null,
      "right": null,
      "top": null,
      "visibility": null,
      "width": null
     }
    },
    "ce3768e6a40042cca07ef4510fa04feb": {
     "model_module": "@jupyter-widgets/controls",
     "model_name": "HTMLModel",
     "state": {
      "_dom_classes": [],
      "_model_module": "@jupyter-widgets/controls",
      "_model_module_version": "1.5.0",
      "_model_name": "HTMLModel",
      "_view_count": null,
      "_view_module": "@jupyter-widgets/controls",
      "_view_module_version": "1.5.0",
      "_view_name": "HTMLView",
      "description": "",
      "description_tooltip": null,
      "layout": "IPY_MODEL_3ad9bd1d11414bb382904d44e3dcba19",
      "placeholder": "​",
      "style": "IPY_MODEL_2566b5c89ce04f8299ccabd9ee343a16",
      "value": " 92579/92579 [1:12:01&lt;00:00, 21.42it/s]"
     }
    },
    "cf281d8909804012b53a40d15e9f2a70": {
     "model_module": "@jupyter-widgets/base",
     "model_name": "LayoutModel",
     "state": {
      "_model_module": "@jupyter-widgets/base",
      "_model_module_version": "1.2.0",
      "_model_name": "LayoutModel",
      "_view_count": null,
      "_view_module": "@jupyter-widgets/base",
      "_view_module_version": "1.2.0",
      "_view_name": "LayoutView",
      "align_content": null,
      "align_items": null,
      "align_self": null,
      "border": null,
      "bottom": null,
      "display": null,
      "flex": null,
      "flex_flow": null,
      "grid_area": null,
      "grid_auto_columns": null,
      "grid_auto_flow": null,
      "grid_auto_rows": null,
      "grid_column": null,
      "grid_gap": null,
      "grid_row": null,
      "grid_template_areas": null,
      "grid_template_columns": null,
      "grid_template_rows": null,
      "height": null,
      "justify_content": null,
      "justify_items": null,
      "left": null,
      "margin": null,
      "max_height": null,
      "max_width": null,
      "min_height": null,
      "min_width": null,
      "object_fit": null,
      "object_position": null,
      "order": null,
      "overflow": null,
      "overflow_x": null,
      "overflow_y": null,
      "padding": null,
      "right": null,
      "top": null,
      "visibility": null,
      "width": null
     }
    },
    "ef24586f9e6c4ff2af73c68915bc95b7": {
     "model_module": "@jupyter-widgets/controls",
     "model_name": "FloatProgressModel",
     "state": {
      "_dom_classes": [],
      "_model_module": "@jupyter-widgets/controls",
      "_model_module_version": "1.5.0",
      "_model_name": "FloatProgressModel",
      "_view_count": null,
      "_view_module": "@jupyter-widgets/controls",
      "_view_module_version": "1.5.0",
      "_view_name": "ProgressView",
      "bar_style": "success",
      "description": "100%",
      "description_tooltip": null,
      "layout": "IPY_MODEL_c59c05f26e3b4f10968a800176c20c75",
      "max": 92579,
      "min": 0,
      "orientation": "horizontal",
      "style": "IPY_MODEL_31823bbf922d4f269f1828b66a5575ce",
      "value": 92579
     }
    },
    "f4d0ea84348b4ac6977344932ae22e11": {
     "model_module": "@jupyter-widgets/base",
     "model_name": "LayoutModel",
     "state": {
      "_model_module": "@jupyter-widgets/base",
      "_model_module_version": "1.2.0",
      "_model_name": "LayoutModel",
      "_view_count": null,
      "_view_module": "@jupyter-widgets/base",
      "_view_module_version": "1.2.0",
      "_view_name": "LayoutView",
      "align_content": null,
      "align_items": null,
      "align_self": null,
      "border": null,
      "bottom": null,
      "display": null,
      "flex": null,
      "flex_flow": null,
      "grid_area": null,
      "grid_auto_columns": null,
      "grid_auto_flow": null,
      "grid_auto_rows": null,
      "grid_column": null,
      "grid_gap": null,
      "grid_row": null,
      "grid_template_areas": null,
      "grid_template_columns": null,
      "grid_template_rows": null,
      "height": null,
      "justify_content": null,
      "justify_items": null,
      "left": null,
      "margin": null,
      "max_height": null,
      "max_width": null,
      "min_height": null,
      "min_width": null,
      "object_fit": null,
      "object_position": null,
      "order": null,
      "overflow": null,
      "overflow_x": null,
      "overflow_y": null,
      "padding": null,
      "right": null,
      "top": null,
      "visibility": null,
      "width": null
     }
    }
   }
  }
 },
 "nbformat": 4,
 "nbformat_minor": 1
}
